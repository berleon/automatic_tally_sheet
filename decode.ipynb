{
 "cells": [
  {
   "cell_type": "code",
   "execution_count": null,
   "metadata": {},
   "outputs": [],
   "source": [
    "%matplotlib inline\n",
    "%load_ext autoreload\n",
    "%autoreload 2\n",
    "\n",
    "import matplotlib.pyplot as plt\n",
    "from matplotlib.patches import Rectangle\n",
    "from imageio import imread\n",
    "from collections import OrderedDict\n",
    "import zbar\n",
    "import copy\n",
    "import csv\n",
    "from io import StringIO\n",
    "\n",
    "from skimage.color import rgb2gray\n",
    "from skimage.transform import estimate_transform, warp_coords, warp, rescale\n",
    "from skimage.exposure import equalize_adapthist, equalize_hist\n",
    "from skimage.morphology import closing, opening\n",
    "from skimage.filters import gaussian\n",
    "from scipy.signal import argrelextrema\n",
    "import numpy as np\n",
    "from scipy.ndimage import convolve\n",
    "from ats.main import POSITIONS, EDGE_POSITIONS\n",
    "\n",
    "import base64\n",
    "import zlib\n",
    "import json"
   ]
  },
  {
   "cell_type": "code",
   "execution_count": null,
   "metadata": {
    "collapsed": true
   },
   "outputs": [],
   "source": [
    "dina4 = np.array([21, 29.7])"
   ]
  },
  {
   "cell_type": "code",
   "execution_count": null,
   "metadata": {
    "collapsed": true
   },
   "outputs": [],
   "source": [
    "img = imread(\"./IMG_0356.JPG\")"
   ]
  },
  {
   "cell_type": "code",
   "execution_count": null,
   "metadata": {},
   "outputs": [],
   "source": [
    "fig, ax = plt.subplots(figsize=(12, 12))\n",
    "ax.imshow(rescale(img, 1))"
   ]
  },
  {
   "cell_type": "code",
   "execution_count": null,
   "metadata": {},
   "outputs": [],
   "source": [
    "gray_img = (255*gaussian(rgb2gray(img), 0.1)).astype(np.uint8)"
   ]
  },
  {
   "cell_type": "code",
   "execution_count": null,
   "metadata": {},
   "outputs": [],
   "source": [
    "scanner = zbar.Scanner()\n",
    "results = scanner.scan(gray_img)\n",
    "print(len(results))\n",
    "splited_data = {}\n",
    "qr_positions = {}\n",
    "for result in results:\n",
    "    pos, data = result.data.decode('utf8').split(\":\")\n",
    "    splited_data[pos] = data\n",
    "    qr_positions[pos] = result.position\n",
    "    print(result.type, result.data, result.quality, result.position)"
   ]
  },
  {
   "cell_type": "code",
   "execution_count": null,
   "metadata": {},
   "outputs": [],
   "source": [
    "list(splited_data.keys())"
   ]
  },
  {
   "cell_type": "code",
   "execution_count": null,
   "metadata": {},
   "outputs": [],
   "source": [
    "data = \"\"\n",
    "for pos in POSITIONS:\n",
    "    data += splited_data[pos]"
   ]
  },
  {
   "cell_type": "code",
   "execution_count": null,
   "metadata": {},
   "outputs": [],
   "source": [
    "x = base64.b85decode(data)\n",
    "x = zlib.decompress(x)\n",
    "x = json.loads(x.decode('utf8'))\n",
    "config = x\n",
    "config"
   ]
  },
  {
   "cell_type": "code",
   "execution_count": null,
   "metadata": {
    "collapsed": true
   },
   "outputs": [],
   "source": [
    "def coords2rect(coords):\n",
    "    coords = np.array(coords)\n",
    "    xy = coords.min(axis=0)\n",
    "    width = np.max(coords[:, 0] - xy[0])\n",
    "    height = np.max(coords[:, 1] - xy[1])\n",
    "    return xy, width, height\n"
   ]
  },
  {
   "cell_type": "code",
   "execution_count": null,
   "metadata": {},
   "outputs": [],
   "source": [
    "fig, ax = plt.subplots(figsize=(12, 12))\n",
    "ax.imshow(img)\n",
    "\n",
    "centers = {}\n",
    "for name, coords in qr_positions.items():\n",
    "    centers[name] = np.mean(coords, axis=0)\n",
    "    rect = Rectangle(*coords2rect(coords), fill=False, color='green')\n",
    "    ax.add_patch(rect)\n",
    "    \n",
    "ax.scatter([c[0] for c in centers.values()], [c[1] for c in centers.values()], c='red')"
   ]
  },
  {
   "cell_type": "code",
   "execution_count": null,
   "metadata": {},
   "outputs": [],
   "source": [
    "# C = A X\n",
    "# C X^-1 = A I\n",
    "\n",
    "C = np.zeros((len(EDGE_POSITIONS), 2))\n",
    "for i, pos in enumerate(EDGE_POSITIONS):\n",
    "    C[i] = centers[pos]\n",
    "C.shape"
   ]
  },
  {
   "cell_type": "code",
   "execution_count": null,
   "metadata": {},
   "outputs": [],
   "source": [
    "pos = x['positions']\n",
    "qr_width = 3\n",
    "qh = qr_width / 2\n",
    "pos"
   ]
  },
  {
   "cell_type": "code",
   "execution_count": null,
   "metadata": {},
   "outputs": [],
   "source": [
    "X = np.array([    \n",
    "    [pos['left'] + qh, -pos['top'] + qh],\n",
    "    [pos['right'] + qh, -pos['top'] + qh],\n",
    "    [pos['left'] + qh, -pos['bottom'] + qh],\n",
    "    [pos['right'] + qh, -pos['bottom'] + qh],\n",
    "])\n",
    "X"
   ]
  },
  {
   "cell_type": "code",
   "execution_count": null,
   "metadata": {
    "collapsed": true
   },
   "outputs": [],
   "source": [
    "transform = estimate_transform('projective', X, C)"
   ]
  },
  {
   "cell_type": "code",
   "execution_count": null,
   "metadata": {},
   "outputs": [],
   "source": [
    "transform.params"
   ]
  },
  {
   "cell_type": "code",
   "execution_count": null,
   "metadata": {
    "collapsed": true
   },
   "outputs": [],
   "source": []
  },
  {
   "cell_type": "code",
   "execution_count": null,
   "metadata": {},
   "outputs": [],
   "source": [
    "x = np.arange(0, 29.7)\n",
    "y = np.arange(0, 21.001)\n",
    "x, y = np.meshgrid(x, y)\n",
    "coords = np.stack([x, y], axis=-1).reshape(-1, 2)\n",
    "coords"
   ]
  },
  {
   "cell_type": "code",
   "execution_count": null,
   "metadata": {},
   "outputs": [],
   "source": [
    "fig, ax = plt.subplots(figsize=(12, 12))\n",
    "ax.imshow(img)\n",
    "\n",
    "t_coords = transform(coords)\n",
    "\n",
    "ax.scatter(t_coords[:, 0], t_coords[:, 1], c='red')\n"
   ]
  },
  {
   "cell_type": "code",
   "execution_count": null,
   "metadata": {
    "collapsed": true
   },
   "outputs": [],
   "source": [
    "dpcm = 180 / 2.54\n",
    "X_dp = X * dpcm\n",
    "\n",
    "def cm2dots(cm):\n",
    "    return cm * dpcm\n",
    "\n",
    "transform = estimate_transform('projective', X_dp, C)"
   ]
  },
  {
   "cell_type": "code",
   "execution_count": null,
   "metadata": {},
   "outputs": [],
   "source": [
    "(2*dina4 * dpcm).astype(np.int)"
   ]
  },
  {
   "cell_type": "code",
   "execution_count": null,
   "metadata": {
    "collapsed": true
   },
   "outputs": [],
   "source": [
    "img_warp = warp(img, inverse_map=transform, output_shape=(dina4 * dpcm).astype(np.int).T)"
   ]
  },
  {
   "cell_type": "code",
   "execution_count": null,
   "metadata": {},
   "outputs": [],
   "source": [
    "img_warp.shape"
   ]
  },
  {
   "cell_type": "code",
   "execution_count": null,
   "metadata": {},
   "outputs": [],
   "source": [
    "fig, ax = plt.subplots(figsize=(18, 12))\n",
    "ax.imshow(img_warp)"
   ]
  },
  {
   "cell_type": "code",
   "execution_count": null,
   "metadata": {
    "collapsed": true
   },
   "outputs": [],
   "source": [
    "img_equal = equalize_hist(rgb2gray(img_warp))"
   ]
  },
  {
   "cell_type": "code",
   "execution_count": null,
   "metadata": {},
   "outputs": [],
   "source": [
    "img_equal = equalize_adapthist(rgb2gray(img_warp), kernel_size=2*np.array([dpcm, dpcm]))"
   ]
  },
  {
   "cell_type": "code",
   "execution_count": null,
   "metadata": {},
   "outputs": [],
   "source": [
    "s = 0.3\n",
    "fig, ax = plt.subplots(figsize=(18*s, 12*s))\n",
    "ax.imshow(img_equal, cmap='gray')"
   ]
  },
  {
   "cell_type": "code",
   "execution_count": null,
   "metadata": {
    "collapsed": true
   },
   "outputs": [],
   "source": [
    "img_binary = img_equal > 0.6"
   ]
  },
  {
   "cell_type": "code",
   "execution_count": null,
   "metadata": {},
   "outputs": [],
   "source": [
    "fig, ax = plt.subplots(figsize=(18*s, 12*s))\n",
    "ax.imshow(img_binary, cmap='gray')"
   ]
  },
  {
   "cell_type": "code",
   "execution_count": null,
   "metadata": {},
   "outputs": [],
   "source": [
    "img_closed = closing(img_binary, np.ones((int(dpcm*0.15), int(dpcm*0.1))))\n",
    "fig, ax = plt.subplots(figsize=(18*s, 12*s))\n",
    "ax.imshow(img_closed, cmap='gray')"
   ]
  },
  {
   "cell_type": "code",
   "execution_count": null,
   "metadata": {},
   "outputs": [],
   "source": [
    "def build_h_kernel():\n",
    "    s = int(dpcm * 0.25)\n",
    "    n = 5\n",
    "    h_kernel = []\n",
    "    for i in range(n):\n",
    "        h_kernel.extend([1] * s + [-1] * s)\n",
    "\n",
    "    return np.array([h_kernel])\n",
    "    \n",
    "h_kernel = build_h_kernel()\n",
    "fig, ax = plt.subplots(figsize=(18, 12))\n",
    "img_kernel = img_closed.copy()\n",
    "for i in range(30):\n",
    "    img_kernel[90+i, 200:200+len(h_kernel[0])] = 0.5*h_kernel.flatten() + 0.5\n",
    "\n",
    "ax.imshow(img_kernel, cmap='gray')"
   ]
  },
  {
   "cell_type": "code",
   "execution_count": null,
   "metadata": {},
   "outputs": [],
   "source": [
    "img_to_conv = img_closed.copy()\n",
    "img_to_conv[200:220, :] = 0\n",
    "img_conv_h = convolve(2*img_to_conv.astype(np.float)-1, h_kernel)\n",
    "\n",
    "fig, ax = plt.subplots(figsize=(18, 12))\n",
    "ax.imshow(img_conv_h, cmap='gray')"
   ]
  },
  {
   "cell_type": "code",
   "execution_count": null,
   "metadata": {},
   "outputs": [],
   "source": [
    "h_line_power = np.abs(img_conv_h).mean(axis=1) / len(h_kernel.flatten())\n",
    "plt.plot(h_line_power)\n",
    "plt.plot(0.3*(h_line_power > 0.3))"
   ]
  },
  {
   "cell_type": "code",
   "execution_count": null,
   "metadata": {},
   "outputs": [],
   "source": [
    "def get_first_edge_lines(img, line_number_and_power, threshold=0.2, mode='vertical'):\n",
    "    first_match = None\n",
    "    edges = []\n",
    "    line_indicies = []\n",
    "    for i, power in line_number_and_power:\n",
    "        if power > threshold:\n",
    "            if first_match is None:\n",
    "                first_match = i\n",
    "            \n",
    "            if mode == 'vertical':\n",
    "                line = img[:, i]\n",
    "            elif mode == 'horizontal':\n",
    "                line = img[i, :]\n",
    "            else:\n",
    "                raise Exception()\n",
    "                \n",
    "            edges.append(convolve(line, [1, 1, -1, -1]))\n",
    "            line_indicies.append(i)\n",
    "        elif first_match is not None:\n",
    "            break\n",
    "    return np.array(edges), np.array(line_indicies)\n",
    "\n",
    "h_edges, h_lines = get_first_edge_lines(img_equal, reversed(list(enumerate(h_line_power))), mode='horizontal')\n",
    "h_edges.shape"
   ]
  },
  {
   "cell_type": "code",
   "execution_count": null,
   "metadata": {
    "scrolled": false
   },
   "outputs": [],
   "source": [
    "fig, ax = plt.subplots(figsize=(18, 2))\n",
    "#for edge in edges:\n",
    "    # ax.plot(edge)\n",
    "ax.plot(np.mean(h_edges, axis=0))\n",
    "plt.show()"
   ]
  },
  {
   "cell_type": "code",
   "execution_count": null,
   "metadata": {
    "collapsed": true
   },
   "outputs": [],
   "source": [
    "def get_grid(edges, offset=None, threshold=0.5):\n",
    "    if offset is None:\n",
    "        offset = 0\n",
    "    edges = edges[offset:]\n",
    "    begins = edges < - threshold\n",
    "    ends = edges > threshold\n",
    "    \n",
    "    local_extrema, = argrelextrema(edges, np.greater)\n",
    "    local_minima, = argrelextrema(edges, np.less)\n",
    "    \n",
    "    begins = offset + local_extrema[edges[local_extrema] > threshold]\n",
    "    ends = offset + local_minima[edges[local_minima] < - threshold]\n",
    "    grid = np.concatenate([begins, ends])\n",
    "    grid.sort()\n",
    "    return grid"
   ]
  },
  {
   "cell_type": "code",
   "execution_count": null,
   "metadata": {},
   "outputs": [],
   "source": [
    "h_grid = get_grid(np.mean(h_edges, axis=0), offset=100)"
   ]
  },
  {
   "cell_type": "code",
   "execution_count": null,
   "metadata": {},
   "outputs": [],
   "source": [
    "def build_v_kernel():\n",
    "    s = int(dpcm * 0.45)\n",
    "    n = 5\n",
    "    v_kernel = []\n",
    "    for i in range(n):\n",
    "        v_kernel.extend([1] * s + [-1] * s)\n",
    "    return np.array(v_kernel).reshape(-1, 1)\n",
    "v_kernel = build_v_kernel()\n",
    "fig, ax = plt.subplots(figsize=(18*s, 12*s))\n",
    "img_kernel = img_closed.copy()\n",
    "off = 145\n",
    "for i in range(30):\n",
    "    img_kernel[off:off+len(v_kernel), -i] = 0.5*v_kernel.flatten() + 0.5\n",
    "\n",
    "ax.imshow(img_kernel, cmap='gray')"
   ]
  },
  {
   "cell_type": "code",
   "execution_count": null,
   "metadata": {},
   "outputs": [],
   "source": [
    "img_conv_v = convolve(2*img_closed.astype(np.float) - 1, v_kernel) \n",
    "\n",
    "fig, ax = plt.subplots(figsize=(18*s, 12*s))\n",
    "ax.imshow(img_conv_v, cmap='gray')"
   ]
  },
  {
   "cell_type": "code",
   "execution_count": null,
   "metadata": {},
   "outputs": [],
   "source": [
    "plt.plot(np.abs(img_conv_v).mean(axis=0) / len(v_kernel.flatten())) "
   ]
  },
  {
   "cell_type": "code",
   "execution_count": null,
   "metadata": {},
   "outputs": [],
   "source": [
    "v_power_per_line = np.abs(img_conv_v).mean(axis=0) / len(v_kernel.flatten())\n",
    "plt.plot(v_power_per_line)\n",
    "plt.plot(0.3*(v_power_per_line > 0.3))"
   ]
  },
  {
   "cell_type": "code",
   "execution_count": null,
   "metadata": {},
   "outputs": [],
   "source": [
    "v_edges, v_lines = get_first_edge_lines(img_equal, reversed(list(enumerate(v_power_per_line))), mode='vertical')"
   ]
  },
  {
   "cell_type": "code",
   "execution_count": null,
   "metadata": {},
   "outputs": [],
   "source": [
    "fig, ax = plt.subplots(figsize=(18, 2))\n",
    "#for edge in edges:\n",
    "    # ax.plot(edge)\n",
    "ax.plot(np.mean(v_edges, axis=0))\n",
    "plt.show()"
   ]
  },
  {
   "cell_type": "code",
   "execution_count": null,
   "metadata": {},
   "outputs": [],
   "source": [
    "v_grid = get_grid(np.mean(v_edges, axis=0))"
   ]
  },
  {
   "cell_type": "code",
   "execution_count": null,
   "metadata": {
    "collapsed": true
   },
   "outputs": [],
   "source": []
  },
  {
   "cell_type": "code",
   "execution_count": null,
   "metadata": {},
   "outputs": [],
   "source": [
    "def filter_v_grid(grid, max_derivation=cm2dots(0.1)):\n",
    "    def in_bounds(dist):\n",
    "        return dist is not None and median - max_derivation < dist < median + max_derivation \n",
    "    \n",
    "    distances = grid[1:] - grid[:-1]\n",
    "    \n",
    "    median = np.median(distances)\n",
    "    keep = set()\n",
    "    remove = set()\n",
    "    \n",
    "    for i, pos in enumerate(grid):\n",
    "        dist_next = grid[i+1] - pos if i + 1 < len(grid) else None\n",
    "        dist_prev = pos - grid[i - 1]  if i - 1 >= 0 else None\n",
    "        dist = dist_next or dist_prev\n",
    "        if in_bounds(dist_next) or in_bounds(dist_prev):\n",
    "            keep.add(i)\n",
    "        else:\n",
    "            remove.update(range(i))\n",
    "            \n",
    "            print(len(keep))\n",
    "            if len(keep) < len(config['names']) + 2:\n",
    "                keep.clear()\n",
    "            else:\n",
    "                break\n",
    "    return grid[list(keep)]\n",
    "v_filtered_grid = filter_v_grid(v_grid)"
   ]
  },
  {
   "cell_type": "code",
   "execution_count": null,
   "metadata": {},
   "outputs": [],
   "source": [
    "s = 1.4\n",
    "fig, ax = plt.subplots(figsize=(18*s, 12*s))\n",
    "ax.imshow(img_equal, cmap='gray')\n",
    "\n",
    "\n",
    "ax.vlines(h_grid, cm2dots(3), cm2dots(17), colors='b')\n",
    "ax.hlines(v_filtered_grid, cm2dots(3), cm2dots(28), colors='r')\n",
    "plt.show()"
   ]
  },
  {
   "cell_type": "code",
   "execution_count": null,
   "metadata": {},
   "outputs": [],
   "source": [
    "def get_centers(grid):\n",
    "    return grid[:-1] + (grid[1:] - grid[:-1]) // 2"
   ]
  },
  {
   "cell_type": "code",
   "execution_count": null,
   "metadata": {},
   "outputs": [],
   "source": [
    "v_centers = get_centers(v_filtered_grid)\n",
    "h_centers = get_centers(h_grid)"
   ]
  },
  {
   "cell_type": "code",
   "execution_count": null,
   "metadata": {},
   "outputs": [],
   "source": [
    "s = 1.4\n",
    "fig, ax = plt.subplots(figsize=(18*s, 12*s))\n",
    "ax.imshow(img_equal, cmap='gray')\n",
    "\n",
    "\n",
    "ax.vlines(h_centers, cm2dots(3), cm2dots(17), colors='b')\n",
    "ax.hlines(v_centers, cm2dots(3), cm2dots(28), colors='r')\n",
    "plt.show()"
   ]
  },
  {
   "cell_type": "code",
   "execution_count": null,
   "metadata": {},
   "outputs": [],
   "source": [
    "list(config.keys())"
   ]
  },
  {
   "cell_type": "code",
   "execution_count": null,
   "metadata": {},
   "outputs": [],
   "source": [
    "img_marked_closed = closing(img_binary, np.ones((int(dpcm*0.08), int(dpcm*0.1))))\n",
    "fig, ax = plt.subplots(figsize=(18*s, 12*s))\n",
    "ax.imshow(img_marked_closed, cmap='gray')"
   ]
  },
  {
   "cell_type": "code",
   "execution_count": null,
   "metadata": {},
   "outputs": [],
   "source": [
    "def get_pixel_pos(i, j):\n",
    "    return v_centers[i], h_centers[j]   \n",
    "\n",
    "def get_patch(i, j, border=1):\n",
    "    vi, vj = [i], h_centers[j]\n",
    "    hb = v_filtered_grid[i] + border\n",
    "    he = v_filtered_grid[i+1] - border\n",
    "    wb = h_grid[j] + border\n",
    "    we = h_grid[j+1] - border\n",
    "    patch = img_marked_closed[hb:he, wb:we]\n",
    "    return patch\n",
    "\n",
    "def is_marked(patch, black_threshold=0.1, min_percent_black=0.6):\n",
    "    if type(patch) == tuple:\n",
    "        patch = get_patch(patch[0], patch[1])\n",
    "    percentage_black = np.sum(patch < black_threshold) / patch.size\n",
    "    return percentage_black > min_percent_black\n"
   ]
  },
  {
   "cell_type": "code",
   "execution_count": null,
   "metadata": {
    "scrolled": true
   },
   "outputs": [],
   "source": [
    "marked = []\n",
    "for i in range(len(v_centers)-1):\n",
    "    for j in range(len(h_centers)-1):\n",
    "        if is_marked(get_patch(i, j)):\n",
    "            marked.append(get_pixel_pos(i, j))\n",
    "marked = np.array(marked)"
   ]
  },
  {
   "cell_type": "code",
   "execution_count": null,
   "metadata": {},
   "outputs": [],
   "source": [
    "s = 1.4\n",
    "fig, ax = plt.subplots(figsize=(18*s, 12*s))\n",
    "ax.imshow(img_equal, cmap='gray')\n",
    "\n",
    "plt.scatter(marked[:, 1], marked[:, 0], c='#00ff00', marker='X', s=80)\n",
    "plt.show()"
   ]
  },
  {
   "cell_type": "code",
   "execution_count": null,
   "metadata": {},
   "outputs": [],
   "source": [
    "patch = get_patch(1, 40)\n",
    "#patch = get_patch(11, 0)\n",
    "patch = get_patch(9, 95, border=0)\n",
    "\n",
    "plt.imshow(patch, cmap=plt.cm.gray, vmin=0, vmax=1)\n",
    "np.sum(patch < 0.25) / np.sum(patch < 10)\n"
   ]
  },
  {
   "cell_type": "code",
   "execution_count": null,
   "metadata": {},
   "outputs": [],
   "source": [
    "plt.hist(patch.flatten(), bins=20)"
   ]
  },
  {
   "cell_type": "code",
   "execution_count": null,
   "metadata": {},
   "outputs": [],
   "source": [
    "box_offset = 0\n",
    "names = config['names']\n",
    "items = config['items']\n",
    "consumed_per_person = OrderedDict([\n",
    "    (n, OrderedDict([(item['name'], 0) for item in items]))\n",
    "    for n in names])\n",
    "costs_per_person = copy.deepcopy(consumed_per_person)\n",
    "for item in config['items']:\n",
    "    boxes = item['boxes']\n",
    "    for i in range(box_offset, box_offset + boxes):\n",
    "        for j, person in enumerate(config['names']):\n",
    "            if is_marked((j, i)):\n",
    "                consumed_per_person[person][item['name']] += 1\n",
    "                costs_per_person[person][item['name']] += item['price']\n",
    "    box_offset += boxes\n",
    "    "
   ]
  },
  {
   "cell_type": "code",
   "execution_count": null,
   "metadata": {},
   "outputs": [],
   "source": [
    "consumed_per_person\n",
    "costs_per_person"
   ]
  },
  {
   "cell_type": "code",
   "execution_count": null,
   "metadata": {
    "scrolled": false
   },
   "outputs": [],
   "source": [
    "for person, costs in costs_per_person.items():\n",
    "    print(\"{:13} |  {:0.2f}\".format(person, sum(costs.values())))"
   ]
  },
  {
   "cell_type": "code",
   "execution_count": null,
   "metadata": {
    "collapsed": true
   },
   "outputs": [],
   "source": []
  },
  {
   "cell_type": "code",
   "execution_count": null,
   "metadata": {},
   "outputs": [],
   "source": [
    "buf = StringIO()\n",
    "writer = csv.writer(buf)\n",
    "writer.writerow(['name'] + [item['name'] for item in items])"
   ]
  },
  {
   "cell_type": "code",
   "execution_count": null,
   "metadata": {},
   "outputs": [],
   "source": [
    "for person, cost in costs_per_person.items():\n",
    "    writer.writerow([person] + list(cost.values()))"
   ]
  },
  {
   "cell_type": "code",
   "execution_count": null,
   "metadata": {
    "scrolled": false
   },
   "outputs": [],
   "source": [
    "print(buf.getvalue())"
   ]
  },
  {
   "cell_type": "code",
   "execution_count": null,
   "metadata": {
    "collapsed": true
   },
   "outputs": [],
   "source": []
  }
 ],
 "metadata": {
  "kernelspec": {
   "display_name": "Python 3",
   "language": "python",
   "name": "python3"
  },
  "language_info": {
   "codemirror_mode": {
    "name": "ipython",
    "version": 3
   },
   "file_extension": ".py",
   "mimetype": "text/x-python",
   "name": "python",
   "nbconvert_exporter": "python",
   "pygments_lexer": "ipython3",
   "version": "3.6.4"
  }
 },
 "nbformat": 4,
 "nbformat_minor": 2
}
